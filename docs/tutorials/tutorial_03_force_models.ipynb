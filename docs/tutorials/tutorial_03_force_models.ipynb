{
 "cells": [
  {
   "cell_type": "markdown",
   "metadata": {
    "pycharm": {
     "name": "#%% md\n"
    }
   },
   "source": [
    "# Training a model on forces and energies\n",
    "\n",
    "In addition to the energy, machine learning models can also be used to model molecular forces.\n",
    "These are $N_\\mathrm{atoms} \\times 3$ arrays describing the Cartesian force acting on each atom due to the overall\n",
    "(potential) energy. They are formally defined as the negative gradient of the energy $E_\\mathrm{pot}$ with respect to\n",
    "the nuclear positions $\\mathbf{R}$\n",
    "\n",
    "\\begin{equation}\n",
    "\\mathbf{F}^{(\\alpha)} = -\\frac{\\partial E_\\mathrm{pot}}{\\partial \\mathbf{R}^{(\\alpha)}},\n",
    "\\end{equation}\n",
    "\n",
    "where $\\alpha$ is the index of the nucleus.\n",
    "\n",
    "The above expression offers a straightforward way to include forces in machine learning models by simply defining a\n",
    "model for the energy and taking the appropriate derivatives.\n",
    "The resulting model can directly be trained on energies and forces.\n",
    "Moreover, in this manner energy conservation and the correct behaviour under rotations of the molecule is guaranteed.\n",
    "\n",
    "Using forces in addition to energies to construct a machine learning model offers several advantages.\n",
    "Accurate force predictions are important for molecular dynamics simulations, which will be covered in the subsequent\n",
    "tutorial. Forces also encode a greater wealth of information than the energies.\n",
    "For every molecule, only one energy is present, while there are $3N_\\mathrm{atoms}$ force entries.\n",
    "This property, combined with the fact that reference forces can be computed at the same cost as energies, makes models\n",
    "trained on forces and energies very data efficient.\n",
    "\n",
    "In the following, we will show how to train such force models and how to use them in practical applications."
   ]
  },
  {
   "cell_type": "markdown",
   "metadata": {
    "pycharm": {
     "name": "#%% md\n"
    }
   },
   "source": [
    "## Preparing the data\n",
    "\n",
    "The process of preparing the data is similar to the tutorial on [QM9](tutorial_02_qm9.ipynb). We begin by importing all\n",
    "relevant packages and generating a directory for the tutorial experiments."
   ]
  },
  {
   "cell_type": "code",
   "execution_count": 1,
   "metadata": {
    "pycharm": {
     "name": "#%%\n"
    }
   },
   "outputs": [],
   "source": [
    "import torch\n",
    "import torchmetrics\n",
    "import schnetpack as spk\n",
    "import schnetpack.transform as trn\n",
    "import pytorch_lightning as pl\n",
    "import os\n",
    "import matplotlib.pyplot as plt\n",
    "import numpy as np\n",
    "\n",
    "forcetut = './forcetut'\n",
    "if not os.path.exists(forcetut):\n",
    "    os.makedirs(forcetut)"
   ]
  },
  {
   "cell_type": "markdown",
   "metadata": {
    "pycharm": {
     "name": "#%% md\n"
    }
   },
   "source": [
    "Next, the data needs to be loaded from a suitable dataset. \n",
    "For convenience, we use the MD17 dataset class provided in SchNetPack, which automatically downloads and builds suitable\n",
    "databases containing energies and forces for a range of small organic molecules.\n",
    "In this case, we use the ethanol molecule as an example."
   ]
  },
  {
   "cell_type": "code",
   "execution_count": 2,
   "metadata": {
    "pycharm": {
     "name": "#%%\n"
    }
   },
   "outputs": [
    {
     "name": "stderr",
     "output_type": "stream",
     "text": [
      "INFO:root:Downloading ethanol data\n",
      "INFO:root:Parsing molecule ethanol\n",
      "INFO:root:Write atoms to db...\n",
      "INFO:root:Done.\n",
      "100%|██████████████████████████████████████████████████████████████████████████████████████████████████████████████████████████████████████████████████████| 100/100 [00:02<00:00, 36.91it/s]\n"
     ]
    }
   ],
   "source": [
    "from schnetpack.datasets import MD17\n",
    "\n",
    "ethanol_data = MD17(\n",
    "    os.path.join(forcetut,'ethanol.db'),\n",
    "    molecule='ethanol',\n",
    "    batch_size=10,\n",
    "    num_train=1000,\n",
    "    num_val=1000,\n",
    "    transforms=[\n",
    "        trn.ASENeighborList(cutoff=5.),\n",
    "        trn.RemoveOffsets(MD17.energy, remove_mean=True, remove_atomrefs=False),\n",
    "        trn.CastTo32()\n",
    "    ],\n",
    "    num_workers=1,\n",
    "    pin_memory=True, # set to false, when not using a GPU\n",
    ")\n",
    "ethanol_data.prepare_data()\n",
    "ethanol_data.setup()"
   ]
  },
  {
   "cell_type": "markdown",
   "metadata": {
    "pycharm": {
     "name": "#%% md\n"
    }
   },
   "source": [
    "The data is split into training (1000 points), validation (1000 points) and test set (remainder).\n",
    "Once again, we subtract the mean of the energies in the training data with a preprocessing transform to precondition\n",
    "our model. This only needs to be done for the energies, since the forces are obtained as derivatives and automatically\n",
    "capture the scale of the data. The subtraction of atomic reference energies is not necessary here, since only molecules\n",
    "of the same composition are used.\n",
    "\n",
    "For custom datasets, the data would have to be loaded via the SchNetPack `ASEAtomsData` and `AtomsDataModule` classes\n",
    "(see tutorial on [data preparation](tutorial_01_preparing_data.ipynb)). In this case, one needs to make sure that the\n",
    "naming of properties is kept consistent with the config. The `schnetpack.properties` module provides standard names\n",
    "for a wide range of properties. Here, we use the definitions provided with the `MD17` class.\n",
    "\n",
    "In order to train force models, forces need to be included in the reference data.\n",
    "Once the dataset has been loaded, this can be checked as follows:"
   ]
  },
  {
   "cell_type": "code",
   "execution_count": 3,
   "metadata": {
    "pycharm": {
     "name": "#%%\n"
    }
   },
   "outputs": [
    {
     "name": "stdout",
     "output_type": "stream",
     "text": [
      "Loaded properties:\n",
      " _idx\n",
      " energy\n",
      " forces\n",
      " _n_atoms\n",
      " _atomic_numbers\n",
      " _positions\n",
      " _cell\n",
      " _pbc\n",
      "\n"
     ]
    }
   ],
   "source": [
    "properties = ethanol_data.dataset[0]\n",
    "print('Loaded properties:\\n', *['{:s}\\n'.format(i) for i in properties.keys()])"
   ]
  },
  {
   "cell_type": "markdown",
   "metadata": {
    "pycharm": {
     "name": "#%% md\n"
    }
   },
   "source": [
    "As can be seen, `energy` and `forces` are included in the properties dictionary. To have a look at the `forces` array\n",
    "and check whether it has the expected dimensions, we can call:"
   ]
  },
  {
   "cell_type": "code",
   "execution_count": 4,
   "metadata": {
    "pycharm": {
     "name": "#%%\n"
    }
   },
   "outputs": [
    {
     "name": "stdout",
     "output_type": "stream",
     "text": [
      "Forces:\n",
      " tensor([[ 1.4517e+00,  6.0192e+00,  5.2068e-07],\n",
      "        [ 1.7953e+01, -5.1624e+00,  3.4900e-07],\n",
      "        [-4.0884e+00,  2.2590e+01,  3.3088e-06],\n",
      "        [-1.1416e+00, -9.7469e+00,  7.6473e+00],\n",
      "        [-1.1416e+00, -9.7469e+00, -7.6473e+00],\n",
      "        [-2.4821e+00,  4.9335e+00,  4.3700e+00],\n",
      "        [-2.4821e+00,  4.9335e+00, -4.3700e+00],\n",
      "        [-5.5148e+00, -3.0207e+00, -8.9093e-09],\n",
      "        [-2.4393e+00, -1.0838e+01, -6.0721e-08]], dtype=torch.float64)\n",
      "Shape:\n",
      " torch.Size([9, 3])\n"
     ]
    }
   ],
   "source": [
    "print('Forces:\\n', properties[MD17.forces])\n",
    "print('Shape:\\n', properties[MD17.forces].shape)\n",
    "\n"
   ]
  },
  {
   "cell_type": "markdown",
   "metadata": {
    "pycharm": {
     "name": "#%% md\n"
    }
   },
   "source": [
    "## Building the model\n",
    "\n",
    "After having prepared the data in the above way, we can now build and train the force model.\n",
    "This is done in the same three steps as described in [QM9 tutorial](tutorial_02_qm9.ipynb):\n",
    "\n",
    "1. Defining input modules\n",
    "2. Building the representation\n",
    "3. Defining an output module\n",
    "\n",
    "For the representation we can use the same layers as in the previous tutorial:"
   ]
  },
  {
   "cell_type": "code",
   "execution_count": 5,
   "metadata": {
    "pycharm": {
     "name": "#%%\n"
    }
   },
   "outputs": [],
   "source": [
    "cutoff = 5.\n",
    "n_atom_basis = 30\n",
    "\n",
    "pairwise_distance = spk.atomistic.PairwiseDistances() # calculates pairwise distances between atoms\n",
    "radial_basis = spk.nn.GaussianRBF(n_rbf=20, cutoff=cutoff)\n",
    "schnet = spk.representation.SchNet(\n",
    "    n_atom_basis=n_atom_basis, n_interactions=3,\n",
    "    radial_basis=radial_basis,\n",
    "    cutoff_fn=spk.nn.CosineCutoff(cutoff)\n",
    ")"
   ]
  },
  {
   "cell_type": "markdown",
   "metadata": {
    "pycharm": {
     "name": "#%% md\n"
    }
   },
   "source": [
    "Since we want to model forces, we need an additional output module. We will still use the Atomwise to predict the\n",
    "energy. However, since the forces should be described as the derivative of the energy, we have to indicate that the\n",
    "corresponding derviative of the model should be computed.\n",
    "\n",
    "This is done with the ``Forces`` module, which computes the negative derivative of the energy\n",
    " (specified by the supplied ``energy_key``) with respect to the atom positions."
   ]
  },
  {
   "cell_type": "code",
   "execution_count": 6,
   "metadata": {
    "pycharm": {
     "name": "#%%\n"
    }
   },
   "outputs": [],
   "source": [
    "pred_energy = spk.atomistic.Atomwise(n_in=n_atom_basis, output_key=MD17.energy)\n",
    "pred_forces = spk.atomistic.Forces(energy_key=MD17.energy, force_key=MD17.forces)"
   ]
  },
  {
   "cell_type": "markdown",
   "metadata": {
    "pycharm": {
     "name": "#%% md\n"
    }
   },
   "source": [
    "The input, representation and output modules are then assembled to the neural network potential:"
   ]
  },
  {
   "cell_type": "code",
   "execution_count": 7,
   "metadata": {
    "pycharm": {
     "name": "#%%\n"
    }
   },
   "outputs": [],
   "source": [
    "nnpot = spk.model.NeuralNetworkPotential(\n",
    "    representation=schnet,\n",
    "    input_modules=[pairwise_distance],\n",
    "    output_modules=[pred_energy, pred_forces],\n",
    "    postprocessors=[\n",
    "        trn.CastTo64(),\n",
    "        trn.AddOffsets(MD17.energy, add_mean=True, add_atomrefs=False)\n",
    "    ]\n",
    ")"
   ]
  },
  {
   "cell_type": "markdown",
   "metadata": {
    "pycharm": {
     "name": "#%% md\n"
    }
   },
   "source": [
    "## Training the model\n",
    "\n",
    "Before we can train the model, the training task has to be defined, including the model, loss functions and\n",
    "optimizers. First, the outputs of the models are connected to their respective loss functions using `ModelOutput`.\n",
    "To train the model on energies and forces, we will use a combined loss function:\n",
    "\n",
    "\\begin{equation}\n",
    "\\mathcal{L}(E_\\mathrm{ref},\\mathbf{F}_\\mathrm{ref},E_\\mathrm{pred}, \\mathbf{F}_\\mathrm{pred}) = \\frac{1}{n_\\text{train}} \\sum_{n=1}^{n_\\text{train}} \\left[  \\rho_1 \\left( E_\\mathrm{ref} - E_\\mathrm{pred} \\right)^2 + \\frac{\\rho_2}{3N_\\mathrm{atoms}} \\sum^{N_\\mathrm{atoms}}_\\alpha \\left\\| \\mathbf{F}_\\mathrm{ref}^{(\\alpha)} - \\mathbf{F}_\\mathrm{pred}^{(\\alpha)} \\right\\|^2 \\right],\n",
    "\\end{equation}\n",
    "\n",
    "where we take the predicted forces to be:\n",
    "\n",
    "\\begin{equation}\n",
    "\\mathbf{F}_\\mathrm{pred}^{(\\alpha)} = -\\frac{\\partial E_\\mathrm{pred}}{\\partial \\mathbf{R}^{(\\alpha)}}.\n",
    "\\end{equation}\n",
    "\n",
    "We have introduced the loss weights $\\rho_i$ in order to control the tradeoff between energy and force loss.\n",
    "In SchNetPack, we can implement such a weighted loss function by setting the loss weights of `ModelOutput`:"
   ]
  },
  {
   "cell_type": "code",
   "execution_count": 8,
   "metadata": {
    "pycharm": {
     "name": "#%%\n"
    }
   },
   "outputs": [],
   "source": [
    "output_energy = spk.task.ModelOutput(\n",
    "    name=MD17.energy,\n",
    "    loss_fn=torch.nn.MSELoss(),\n",
    "    loss_weight=0.01,\n",
    "    metrics={\n",
    "        \"MAE\": torchmetrics.MeanAbsoluteError()\n",
    "    }\n",
    ")\n",
    "\n",
    "output_forces = spk.task.ModelOutput(\n",
    "    name=MD17.forces,\n",
    "    loss_fn=torch.nn.MSELoss(),\n",
    "    loss_weight=0.99,\n",
    "    metrics={\n",
    "        \"MAE\": torchmetrics.MeanAbsoluteError()\n",
    "    }\n",
    ")"
   ]
  },
  {
   "cell_type": "markdown",
   "metadata": {
    "pycharm": {
     "name": "#%% md\n"
    }
   },
   "source": [
    "Now, the training task can be assembled as in the last tutorial:\n"
   ]
  },
  {
   "cell_type": "code",
   "execution_count": 9,
   "metadata": {
    "pycharm": {
     "name": "#%%\n"
    }
   },
   "outputs": [
    {
     "name": "stderr",
     "output_type": "stream",
     "text": [
      "INFO:torch.distributed.nn.jit.instantiator:Created a temporary directory at /tmp/tmpanuyyqet\n",
      "INFO:torch.distributed.nn.jit.instantiator:Writing /tmp/tmpanuyyqet/_remote_module_non_sriptable.py\n"
     ]
    }
   ],
   "source": [
    "task = spk.task.AtomisticTask(\n",
    "    model=nnpot,\n",
    "    outputs=[output_energy, output_forces],\n",
    "    optimizer_cls=torch.optim.AdamW,\n",
    "    optimizer_args={\"lr\": 1e-4}\n",
    ")"
   ]
  },
  {
   "cell_type": "markdown",
   "metadata": {
    "pycharm": {
     "name": "#%% md\n"
    }
   },
   "source": [
    "Finally, we train the model using the PyTorch Lightning `Trainer` for 5 epochs."
   ]
  },
  {
   "cell_type": "code",
   "execution_count": 10,
   "metadata": {
    "pycharm": {
     "name": "#%%\n"
    }
   },
   "outputs": [
    {
     "name": "stderr",
     "output_type": "stream",
     "text": [
      "GPU available: True, used: False\n",
      "TPU available: False, using: 0 TPU cores\n",
      "IPU available: False, using: 0 IPUs\n",
      "HPU available: False, using: 0 HPUs\n",
      "/home/mitx/anaconda3/envs/spkdev/lib/python3.8/site-packages/pytorch_lightning/trainer/trainer.py:1814: PossibleUserWarning: GPU available but not used. Set `accelerator` and `devices` using `Trainer(accelerator='gpu', devices=1)`.\n",
      "  rank_zero_warn(\n",
      "Missing logger folder: ./forcetut/lightning_logs\n",
      "\n",
      "  | Name    | Type                   | Params\n",
      "---------------------------------------------------\n",
      "0 | model   | NeuralNetworkPotential | 16.4 K\n",
      "1 | outputs | ModuleList             | 0     \n",
      "---------------------------------------------------\n",
      "16.4 K    Trainable params\n",
      "0         Non-trainable params\n",
      "16.4 K    Total params\n",
      "0.066     Total estimated model params size (MB)\n"
     ]
    },
    {
     "data": {
      "application/vnd.jupyter.widget-view+json": {
       "model_id": "",
       "version_major": 2,
       "version_minor": 0
      },
      "text/plain": [
       "Sanity Checking: 0it [00:00, ?it/s]"
      ]
     },
     "metadata": {},
     "output_type": "display_data"
    },
    {
     "name": "stderr",
     "output_type": "stream",
     "text": [
      "/home/mitx/anaconda3/envs/spkdev/lib/python3.8/site-packages/pytorch_lightning/trainer/connectors/data_connector.py:240: PossibleUserWarning: The dataloader, val_dataloader 0, does not have many workers which may be a bottleneck. Consider increasing the value of the `num_workers` argument` (try 8 which is the number of cpus on this machine) in the `DataLoader` init to improve performance.\n",
      "  rank_zero_warn(\n",
      "/home/mitx/anaconda3/envs/spkdev/lib/python3.8/site-packages/pytorch_lightning/utilities/data.py:72: UserWarning: Trying to infer the `batch_size` from an ambiguous collection. The batch size we found is 10. To avoid any miscalculations, use `self.log(..., batch_size=batch_size)`.\n",
      "  warning_cache.warn(\n",
      "/home/mitx/anaconda3/envs/spkdev/lib/python3.8/site-packages/pytorch_lightning/trainer/connectors/data_connector.py:240: PossibleUserWarning: The dataloader, train_dataloader, does not have many workers which may be a bottleneck. Consider increasing the value of the `num_workers` argument` (try 8 which is the number of cpus on this machine) in the `DataLoader` init to improve performance.\n",
      "  rank_zero_warn(\n"
     ]
    },
    {
     "data": {
      "application/vnd.jupyter.widget-view+json": {
       "model_id": "d1923cfdadaf49c58c50668b93e7432a",
       "version_major": 2,
       "version_minor": 0
      },
      "text/plain": [
       "Training: 0it [00:00, ?it/s]"
      ]
     },
     "metadata": {},
     "output_type": "display_data"
    },
    {
     "data": {
      "application/vnd.jupyter.widget-view+json": {
       "model_id": "",
       "version_major": 2,
       "version_minor": 0
      },
      "text/plain": [
       "Validation: 0it [00:00, ?it/s]"
      ]
     },
     "metadata": {},
     "output_type": "display_data"
    },
    {
     "data": {
      "application/vnd.jupyter.widget-view+json": {
       "model_id": "",
       "version_major": 2,
       "version_minor": 0
      },
      "text/plain": [
       "Validation: 0it [00:00, ?it/s]"
      ]
     },
     "metadata": {},
     "output_type": "display_data"
    },
    {
     "data": {
      "application/vnd.jupyter.widget-view+json": {
       "model_id": "",
       "version_major": 2,
       "version_minor": 0
      },
      "text/plain": [
       "Validation: 0it [00:00, ?it/s]"
      ]
     },
     "metadata": {},
     "output_type": "display_data"
    },
    {
     "data": {
      "application/vnd.jupyter.widget-view+json": {
       "model_id": "",
       "version_major": 2,
       "version_minor": 0
      },
      "text/plain": [
       "Validation: 0it [00:00, ?it/s]"
      ]
     },
     "metadata": {},
     "output_type": "display_data"
    },
    {
     "data": {
      "application/vnd.jupyter.widget-view+json": {
       "model_id": "",
       "version_major": 2,
       "version_minor": 0
      },
      "text/plain": [
       "Validation: 0it [00:00, ?it/s]"
      ]
     },
     "metadata": {},
     "output_type": "display_data"
    }
   ],
   "source": [
    "logger = pl.loggers.TensorBoardLogger(save_dir=forcetut)\n",
    "callbacks = [\n",
    "    spk.train.ModelCheckpoint(\n",
    "        inference_path=os.path.join(forcetut, \"best_inference_model\"),\n",
    "        save_top_k=1,\n",
    "        monitor=\"val_loss\"\n",
    "    )\n",
    "]\n",
    "\n",
    "trainer = pl.Trainer(\n",
    "    callbacks=callbacks,\n",
    "    logger=logger,\n",
    "    default_root_dir=forcetut,\n",
    "    max_epochs=5, # for testing, we restrict the number of epochs\n",
    ")\n",
    "trainer.fit(task, datamodule=ethanol_data)"
   ]
  },
  {
   "cell_type": "markdown",
   "metadata": {
    "pycharm": {
     "name": "#%% md\n"
    }
   },
   "source": [
    "Training will produce several files in the `model_path` directory, which is `forcetut` in our case.\n",
    "The split is stored in `split.npz`. \n",
    "Checkpoints are written to `checkpoints` periodically, which can be used to restart training.\n",
    "A copy of the best model is stored as `best_inference_model`, which can directly be accessed using the `torch.load`\n",
    "function.\n",
    "\n",
    "You can have a look at the log using Tensorboard:\n",
    "```\n",
    "tensorboard --logdir=forcetut/default\n",
    "```"
   ]
  },
  {
   "cell_type": "markdown",
   "metadata": {
    "pycharm": {
     "name": "#%% md\n"
    }
   },
   "source": [
    "It should be noted that the model trained here is used exclusively for demonstrative purposes. Accordingly, its size\n",
    "and the training time have been reduced significantly. This puts strong constraints on the accuracy that can be\n",
    "obtained. For practical applications, one would e.g. increase the number of features, the interaction layers, the\n",
    "learning rate schedule and train until convergence (removing the `n_epochs` keyword from the `trainer`).\n",
    "To quickly get started training state-of-the-art models, have a look at the command line interface,\n",
    "which comes with a series of pre-built configurations."
   ]
  },
  {
   "cell_type": "markdown",
   "metadata": {
    "pycharm": {
     "name": "#%% md\n"
    }
   },
   "source": [
    "## Using the model\n",
    "\n",
    "Since all models in SchNetPack are stored in the same way, we can use the trained force model in exactly the same manner\n",
    "as described in the [QM9 tutorial](tutorial_02_qm9.ipynb). To load the model stored in the `best_inference_model` file,\n",
    "we use the `torch.load` function. It will automatically be moved to the device it was trained on. The `AtomsConverter` can then be used to directly operate on ASE atoms objects (e.g. a molecule loaded from a file)."
   ]
  },
  {
   "cell_type": "code",
   "execution_count": 11,
   "metadata": {
    "pycharm": {
     "name": "#%%\n"
    }
   },
   "outputs": [
    {
     "name": "stdout",
     "output_type": "stream",
     "text": [
      "{'energy': tensor([-97195.4024], dtype=torch.float64, grad_fn=<AddBackward0>), 'forces': tensor([[-44.0707,   2.2007, -35.4163],\n",
      "        [ 20.4609,  53.4534,  36.2002],\n",
      "        [ 12.4563, -38.3236,   6.8479],\n",
      "        [-17.5504, -16.8057,  12.7161],\n",
      "        [-12.7481,   5.3587,  -5.3303],\n",
      "        [ 15.4565, -28.6107,  -5.1754],\n",
      "        [  1.9960,   3.1961, -14.4753],\n",
      "        [ 16.1107,   6.4023,  18.2776],\n",
      "        [  7.8888,  13.1289, -13.6445]], dtype=torch.float64)}\n"
     ]
    }
   ],
   "source": [
    "from ase import Atoms\n",
    "\n",
    "\n",
    "# load model\n",
    "model_path = os.path.join(forcetut, \"best_inference_model\")\n",
    "best_model = torch.load(model_path)\n",
    "\n",
    "# set up converter\n",
    "converter = spk.interfaces.AtomsConverter(\n",
    "    neighbor_list=trn.ASENeighborList(cutoff=5.0), dtype=torch.float32\n",
    ")\n",
    "\n",
    "# create atoms object from dataset\n",
    "structure = ethanol_data.test_dataset[0]\n",
    "atoms = Atoms(\n",
    "    numbers=structure[spk.properties.Z], positions=structure[spk.properties.R]\n",
    ")\n",
    "\n",
    "# convert atoms to SchNetPack inputs and perform prediction\n",
    "inputs = converter(atoms)\n",
    "results = best_model(inputs)\n",
    "\n",
    "print(results)"
   ]
  },
  {
   "cell_type": "markdown",
   "metadata": {
    "pycharm": {
     "name": "#%% md\n"
    }
   },
   "source": [
    "## Interface to ASE\n",
    "\n",
    "Having access to molecular forces also makes it possible to perform a variety of different simulations.\n",
    "The `SpkCalculator` offers a simple way to perform all computations available in the ASE package ([QM9 tutorial](tutorial_02_qm9.ipynb)).\n",
    "Below, we create an ASE calculator from the trained model and the previously generated `atoms` object\n",
    "(see [Preparing the data](#Preparing-the-data)).\n",
    "One important point is, that the MD17 dataset uses kcal/mol and kcal/mol/&#8491; as units for energies and forces.\n",
    "For use with ASE, these need to be converted to the standard internal ASE units eV and eV/&#8491;.\n",
    "To do so, we need to pass the units of the energies and positions used by the model to the calculator.\n",
    "The calculator will use these to derive the units of properties like forces and stress."
   ]
  },
  {
   "cell_type": "code",
   "execution_count": 12,
   "metadata": {
    "pycharm": {
     "name": "#%%\n"
    }
   },
   "outputs": [
    {
     "name": "stderr",
     "output_type": "stream",
     "text": [
      "INFO:schnetpack.interfaces.ase_interface:Loading model from ./forcetut/best_inference_model\n"
     ]
    },
    {
     "name": "stdout",
     "output_type": "stream",
     "text": [
      "Prediction:\n",
      "energy: -4214.791541299161\n",
      "forces: [[-1.91108781  0.09543051 -1.53579619]\n",
      " [ 0.88727039  2.31795927  1.56979035]\n",
      " [ 0.54015524 -1.66187043  0.29695397]\n",
      " [-0.76105752 -0.72876521  0.55142124]\n",
      " [-0.55280974  0.23237515 -0.23114498]\n",
      " [ 0.67025806 -1.24067822 -0.22442608]\n",
      " [ 0.08655418  0.13859478 -0.62770626]\n",
      " [ 0.69862502  0.27763211  0.79259056]\n",
      " [ 0.34209193  0.56932251 -0.59168312]]\n"
     ]
    }
   ],
   "source": [
    "calculator = spk.interfaces.SpkCalculator(\n",
    "    model_file=model_path,\n",
    "    neighbor_list=trn.ASENeighborList(cutoff=5.0),\n",
    "    energy_key=MD17.energy,\n",
    "    force_key=MD17.forces,\n",
    "    energy_unit=\"kcal/mol\",\n",
    "    position_unit=\"Ang\",\n",
    ")\n",
    "\n",
    "atoms.set_calculator(calculator)\n",
    "\n",
    "print(\"Prediction:\")\n",
    "print(\"energy:\", atoms.get_total_energy())\n",
    "print(\"forces:\", atoms.get_forces())"
   ]
  },
  {
   "cell_type": "markdown",
   "metadata": {
    "pycharm": {
     "name": "#%% md\n"
    }
   },
   "source": [
    "Among the simulations which can be done by using ASE and a force model are geometry optimisation,\n",
    "normal mode analysis and simple molecular dynamics simulations.\n",
    "\n",
    "The `AseInterface` of SchNetPack offers a convenient way to perform basic versions of these computations.\n",
    "Only a file specifying the geometry of the molecule and a pretrained model are needed.\n",
    "\n",
    "We will first generate a XYZ file containing an ethanol configuration:"
   ]
  },
  {
   "cell_type": "code",
   "execution_count": 13,
   "metadata": {
    "pycharm": {
     "name": "#%%\n"
    }
   },
   "outputs": [],
   "source": [
    "from ase import io\n",
    "\n",
    "# Generate a directory for the ASE computations\n",
    "ase_dir = os.path.join(forcetut, 'ase_calcs')\n",
    "\n",
    "if not os.path.exists(ase_dir):\n",
    "    os.mkdir(ase_dir)\n",
    "\n",
    "# Write a sample molecule\n",
    "molecule_path = os.path.join(ase_dir, 'ethanol.xyz')\n",
    "io.write(molecule_path, atoms, format='xyz')"
   ]
  },
  {
   "cell_type": "markdown",
   "metadata": {
    "pycharm": {
     "name": "#%% md\n"
    }
   },
   "source": [
    "The `AseInterface` is initialized by passing the path to the molecule, the model and a computation directory.\n",
    "In addition, the names of energies and forces model output,\n",
    "as well as their units, need to be provided (similar to the `SpkCalculator`).\n",
    "Computation device and floating point precision can be set via the `device` and `dtype` arguments."
   ]
  },
  {
   "cell_type": "code",
   "execution_count": 14,
   "metadata": {
    "pycharm": {
     "name": "#%%\n"
    }
   },
   "outputs": [
    {
     "name": "stderr",
     "output_type": "stream",
     "text": [
      "INFO:schnetpack.interfaces.ase_interface:Loading model from ./forcetut/best_inference_model\n"
     ]
    }
   ],
   "source": [
    "ethanol_ase = spk.interfaces.AseInterface(\n",
    "    molecule_path,\n",
    "    ase_dir,\n",
    "    model_file=model_path,\n",
    "    neighbor_list=trn.ASENeighborList(cutoff=5.0),\n",
    "    energy_key=MD17.energy,\n",
    "    force_key=MD17.forces,\n",
    "    energy_unit=\"kcal/mol\",\n",
    "    position_unit=\"Ang\",\n",
    "    device=\"cpu\",\n",
    "    dtype=torch.float64,\n",
    ")"
   ]
  },
  {
   "cell_type": "markdown",
   "metadata": {
    "pycharm": {
     "name": "#%% md\n"
    }
   },
   "source": [
    "### Geometry optimization\n",
    "\n",
    "For some applications it is neccessary to relax a molecule to an energy minimum.\n",
    "In order to perform this optimization of the molecular geometry, we can simply call"
   ]
  },
  {
   "cell_type": "code",
   "execution_count": 15,
   "metadata": {
    "pycharm": {
     "name": "#%%\n"
    }
   },
   "outputs": [
    {
     "name": "stdout",
     "output_type": "stream",
     "text": [
      "                Step[ FC]     Time          Energy          fmax\n",
      "BFGSLineSearch:    0[  0] 13:12:37    -4214.791527        2.9367\n",
      "BFGSLineSearch:    1[  2] 13:12:37    -4215.055276        1.0611\n",
      "BFGSLineSearch:    2[  4] 13:12:37    -4215.159463        1.0826\n",
      "BFGSLineSearch:    3[  6] 13:12:37    -4215.274648        1.2280\n",
      "BFGSLineSearch:    4[  8] 13:12:37    -4215.334258        0.4609\n",
      "BFGSLineSearch:    5[ 10] 13:12:37    -4215.349639        0.4928\n",
      "BFGSLineSearch:    6[ 12] 13:12:37    -4215.373361        0.3931\n",
      "BFGSLineSearch:    7[ 14] 13:12:37    -4215.381033        0.3178\n",
      "BFGSLineSearch:    8[ 16] 13:12:37    -4215.387082        0.2774\n",
      "BFGSLineSearch:    9[ 17] 13:12:37    -4215.391647        0.3256\n",
      "BFGSLineSearch:   10[ 19] 13:12:37    -4215.394160        0.1450\n",
      "BFGSLineSearch:   11[ 20] 13:12:37    -4215.397869        0.0865\n",
      "BFGSLineSearch:   12[ 22] 13:12:37    -4215.398678        0.1775\n",
      "BFGSLineSearch:   13[ 23] 13:12:37    -4215.403180        0.1185\n",
      "BFGSLineSearch:   14[ 24] 13:12:37    -4215.405538        0.0656\n",
      "BFGSLineSearch:   15[ 26] 13:12:37    -4215.407644        0.1268\n",
      "BFGSLineSearch:   16[ 28] 13:12:37    -4215.410773        0.1830\n",
      "BFGSLineSearch:   17[ 29] 13:12:37    -4215.414144        0.2794\n",
      "BFGSLineSearch:   18[ 30] 13:12:37    -4215.418651        0.2502\n",
      "BFGSLineSearch:   19[ 31] 13:12:37    -4215.421489        0.2279\n",
      "BFGSLineSearch:   20[ 33] 13:12:37    -4215.425964        0.2258\n",
      "BFGSLineSearch:   21[ 34] 13:12:37    -4215.429616        0.1728\n",
      "BFGSLineSearch:   22[ 35] 13:12:37    -4215.433852        0.0968\n",
      "BFGSLineSearch:   23[ 36] 13:12:37    -4215.436223        0.1175\n",
      "BFGSLineSearch:   24[ 37] 13:12:37    -4215.440318        0.0930\n",
      "BFGSLineSearch:   25[ 38] 13:12:38    -4215.442553        0.0986\n",
      "BFGSLineSearch:   26[ 39] 13:12:38    -4215.443096        0.0625\n",
      "BFGSLineSearch:   27[ 40] 13:12:38    -4215.443319        0.0445\n",
      "BFGSLineSearch:   28[ 41] 13:12:38    -4215.443480        0.0287\n",
      "BFGSLineSearch:   29[ 42] 13:12:38    -4215.443556        0.0150\n",
      "BFGSLineSearch:   30[ 43] 13:12:38    -4215.443583        0.0207\n",
      "BFGSLineSearch:   31[ 44] 13:12:38    -4215.443596        0.0064\n"
     ]
    }
   ],
   "source": [
    "ethanol_ase.optimize(fmax=1e-2)"
   ]
  },
  {
   "cell_type": "markdown",
   "metadata": {
    "pycharm": {
     "name": "#%% md\n"
    }
   },
   "source": [
    "Since we trained only a reduced model, the accuracy of energies and forces is not optimal and several steps are\n",
    "needed to optimize the geometry.\n",
    "\n",
    "### Normal mode analysis\n",
    "\n",
    "Once the geometry was optimized, normal mode frequencies can be obtained from the Hessian (matrix of second derivatives)\n",
    "of the molecule. The Hessian is a measure of the curvature of the potential energy surface and normal mode frequencies\n",
    "are useful for determining, whether an optimization has reached a minimum. Using the `AseInterface`, normal mode\n",
    "frequencies can be obtained via:"
   ]
  },
  {
   "cell_type": "code",
   "execution_count": 16,
   "metadata": {
    "pycharm": {
     "name": "#%%\n"
    }
   },
   "outputs": [
    {
     "name": "stdout",
     "output_type": "stream",
     "text": [
      "---------------------\n",
      "  #    meV     cm^-1\n",
      "---------------------\n",
      "  0    1.1i      9.0i\n",
      "  1    0.5i      4.0i\n",
      "  2    0.0i      0.1i\n",
      "  3    0.0       0.2\n",
      "  4    0.1       0.4\n",
      "  5    0.9       7.6\n",
      "  6   27.0     218.1\n",
      "  7   42.7     344.3\n",
      "  8   58.9     475.4\n",
      "  9   79.5     641.1\n",
      " 10   97.0     782.5\n",
      " 11  109.1     879.6\n",
      " 12  114.5     923.3\n",
      " 13  120.7     973.3\n",
      " 14  129.4    1043.6\n",
      " 15  141.3    1139.5\n",
      " 16  149.7    1207.6\n",
      " 17  158.1    1275.2\n",
      " 18  159.9    1289.9\n",
      " 19  167.5    1351.3\n",
      " 20  171.8    1385.9\n",
      " 21  335.4    2705.5\n",
      " 22  376.4    3035.9\n",
      " 23  382.7    3086.9\n",
      " 24  393.9    3177.2\n",
      " 25  422.5    3407.3\n",
      " 26  431.9    3483.7\n",
      "---------------------\n",
      "Zero-point energy: 2.036 eV\n"
     ]
    }
   ],
   "source": [
    "ethanol_ase.compute_normal_modes()"
   ]
  },
  {
   "cell_type": "markdown",
   "metadata": {
    "pycharm": {
     "name": "#%% md\n"
    }
   },
   "source": [
    "Imaginary frequencies indicate, that the geometry optimisation has not yet reached a minimum.\n",
    "The `AseInterface` also creates an `normal_modes.xyz` file which can be used to visualize the vibrations with jmol.\n",
    "\n",
    "### Molecular dynamics\n",
    "\n",
    "Finally, it is also possible to basic run molecular dynamics simulations using this interface.\n",
    "To do so, we first need to prepare the system, where we specify the simulation file.\n",
    "This routine automatically initializes the velocities of the atoms to a random number corresponding to a certain average\n",
    "kinetic energy."
   ]
  },
  {
   "cell_type": "code",
   "execution_count": 17,
   "metadata": {
    "pycharm": {
     "name": "#%%\n"
    }
   },
   "outputs": [
    {
     "name": "stderr",
     "output_type": "stream",
     "text": [
      "/home/mitx/anaconda3/envs/spkdev/lib/python3.8/site-packages/ase/md/md.py:48: FutureWarning: Specify the temperature in K using the 'temperature_K' argument\n",
      "  warnings.warn(FutureWarning(w))\n"
     ]
    }
   ],
   "source": [
    "ethanol_ase.init_md(\n",
    "    'simulation'\n",
    ")"
   ]
  },
  {
   "cell_type": "markdown",
   "metadata": {
    "pycharm": {
     "name": "#%% md\n"
    }
   },
   "source": [
    "The actual simulation is performed by calling the function `run_md` with a certain number of steps:"
   ]
  },
  {
   "cell_type": "code",
   "execution_count": 18,
   "metadata": {
    "pycharm": {
     "name": "#%%\n"
    }
   },
   "outputs": [],
   "source": [
    "ethanol_ase.run_md(1000)"
   ]
  },
  {
   "cell_type": "markdown",
   "metadata": {
    "pycharm": {
     "name": "#%% md\n"
    }
   },
   "source": [
    "During simulation, energies and geometries are logged to `simulation.log` and `simulation.traj`, respectively.\n",
    "\n",
    "We can for example visualize the evolution of the systems total and potential energies as\n"
   ]
  },
  {
   "cell_type": "code",
   "execution_count": 19,
   "metadata": {
    "pycharm": {
     "name": "#%%\n"
    }
   },
   "outputs": [
    {
     "name": "stdout",
     "output_type": "stream",
     "text": [
      "Average temperature:    3120.40 K\n"
     ]
    },
    {
     "data": {
      "image/png": "[encoded data removed]",
      "text/plain": [
       "<Figure size 1008x432 with 2 Axes>"
      ]
     },
     "metadata": {
      "needs_background": "light"
     },
     "output_type": "display_data"
    }
   ],
   "source": [
    "# Load logged results\n",
    "results = np.loadtxt(os.path.join(ase_dir, 'simulation.log'), skiprows=1)\n",
    "\n",
    "# Determine time axis\n",
    "time = results[:,0]\n",
    "\n",
    "# Load energies\n",
    "energy_tot = results[:,1]\n",
    "energy_pot = results[:,2]\n",
    "energy_kin = results[:,3]\n",
    "\n",
    "# Construct figure\n",
    "plt.figure(figsize=(14,6))\n",
    "\n",
    "# Plot energies\n",
    "plt.subplot(2,1,1)\n",
    "plt.plot(time, energy_tot, label='Total energy')\n",
    "plt.plot(time, energy_pot, label='Potential energy')\n",
    "plt.ylabel('E [eV]')\n",
    "plt.legend()\n",
    "\n",
    "plt.subplot(2,1,2)\n",
    "plt.plot(time, energy_kin, label='Kinetic energy')\n",
    "plt.ylabel('E [eV]')\n",
    "plt.xlabel('Time [ps]')\n",
    "plt.legend()\n",
    "\n",
    "temperature = results[:,4]\n",
    "print('Average temperature: {:10.2f} K'.format(np.mean(temperature)))\n",
    "\n",
    "plt.show()"
   ]
  },
  {
   "cell_type": "markdown",
   "metadata": {
    "pycharm": {
     "name": "#%% md\n"
    }
   },
   "source": [
    "As can be seen, the potential and kinetic energies fluctuate, while the total energy (sum of potential and kinetic\n",
    "energy) remains approximately constant. This is a good demonstration for the energy conservation obtained by modeling\n",
    "forces as energy derivatives. Unfortunately, this also means that energy conservation is not a sufficient measure for\n",
    "the quality of the potential.\n",
    "\n",
    "However, frequently one is interested in simulations where the system is coupled to an external heat bath.\n",
    "This is the same as saying that we wish to keep the average kinetic energy of the system and hence temperature close to a\n",
    "certain value. Currently, the average temperature only depends on the random velocities drawn during the initialization\n",
    "of the dynamics. Keeping a constant temperature average can be achieved by using a so-called thermostat.\n",
    "In the `AseInterface`, simulations with a thermostat (to be precise a Langevin thermostat) can be carried out by\n",
    "providing the `temp_bath` keyword. A simulation with e.g. the target temperature of 300K is performed via:"
   ]
  },
  {
   "cell_type": "code",
   "execution_count": 20,
   "metadata": {
    "pycharm": {
     "name": "#%%\n"
    }
   },
   "outputs": [
    {
     "name": "stdout",
     "output_type": "stream",
     "text": [
      "                Step[ FC]     Time          Energy          fmax\n",
      "BFGSLineSearch:    0[  0] 13:12:52    -4218.017286        3.6762\n",
      "BFGSLineSearch:    1[  1] 13:12:52    -4218.447486        2.1919\n",
      "BFGSLineSearch:    2[  2] 13:12:52    -4218.701318        2.3273\n",
      "BFGSLineSearch:    3[  3] 13:12:52    -4219.046941        1.3198\n",
      "BFGSLineSearch:    4[  4] 13:12:52    -4219.263123        1.3684\n",
      "BFGSLineSearch:    5[  5] 13:12:52    -4219.468461        1.5509\n",
      "BFGSLineSearch:    6[  6] 13:12:52    -4219.791054        1.5180\n",
      "BFGSLineSearch:    7[  7] 13:12:52    -4219.891980        1.9710\n",
      "BFGSLineSearch:    8[  9] 13:12:52    -4220.080802        0.8451\n",
      "BFGSLineSearch:    9[ 11] 13:12:53    -4220.187169        0.6162\n",
      "BFGSLineSearch:   10[ 12] 13:12:53    -4220.250710        0.4295\n",
      "BFGSLineSearch:   11[ 15] 13:12:53    -4220.398164        0.8668\n",
      "BFGSLineSearch:   12[ 17] 13:12:53    -4220.414359        0.9329\n",
      "BFGSLineSearch:   13[ 18] 13:12:53    -4220.462122        0.2476\n",
      "BFGSLineSearch:   14[ 19] 13:12:53    -4220.469229        0.2732\n",
      "BFGSLineSearch:   15[ 20] 13:12:53    -4220.476597        0.2885\n",
      "BFGSLineSearch:   16[ 21] 13:12:53    -4220.483408        0.2213\n",
      "BFGSLineSearch:   17[ 22] 13:12:53    -4220.487980        0.1791\n",
      "BFGSLineSearch:   18[ 23] 13:12:53    -4220.491805        0.1784\n",
      "BFGSLineSearch:   19[ 24] 13:12:53    -4220.495911        0.1235\n",
      "BFGSLineSearch:   20[ 25] 13:12:53    -4220.498646        0.0930\n",
      "BFGSLineSearch:   21[ 26] 13:12:53    -4220.500087        0.0671\n",
      "BFGSLineSearch:   22[ 27] 13:12:53    -4220.500784        0.0550\n",
      "BFGSLineSearch:   23[ 28] 13:12:53    -4220.501426        0.0647\n",
      "BFGSLineSearch:   24[ 30] 13:12:53    -4220.502423        0.1124\n",
      "BFGSLineSearch:   25[ 32] 13:12:53    -4220.506643        0.2289\n",
      "BFGSLineSearch:   26[ 33] 13:12:53    -4220.514577        0.3611\n",
      "BFGSLineSearch:   27[ 37] 13:12:53    -4220.578401        1.1521\n",
      "BFGSLineSearch:   28[ 39] 13:12:53    -4220.582483        1.2661\n",
      "BFGSLineSearch:   29[ 40] 13:12:53    -4220.649225        1.0591\n",
      "BFGSLineSearch:   30[ 41] 13:12:53    -4220.810394        0.8648\n",
      "BFGSLineSearch:   31[ 45] 13:12:53    -4221.168440        1.0560\n",
      "BFGSLineSearch:   32[ 47] 13:12:53    -4221.236919        1.2039\n",
      "BFGSLineSearch:   33[ 48] 13:12:53    -4221.346120        0.9243\n",
      "BFGSLineSearch:   34[ 49] 13:12:53    -4221.530661        1.4056\n",
      "BFGSLineSearch:   35[ 50] 13:12:53    -4221.640840        1.1294\n",
      "BFGSLineSearch:   36[ 51] 13:12:54    -4221.806663        0.9389\n",
      "BFGSLineSearch:   37[ 53] 13:12:54    -4221.882729        0.9604\n",
      "BFGSLineSearch:   38[ 54] 13:12:54    -4222.002104        0.7272\n",
      "BFGSLineSearch:   39[ 56] 13:12:54    -4222.030241        0.5363\n",
      "BFGSLineSearch:   40[ 58] 13:12:54    -4222.055548        0.4834\n",
      "BFGSLineSearch:   41[ 59] 13:12:54    -4222.070368        0.3632\n",
      "BFGSLineSearch:   42[ 60] 13:12:54    -4222.089456        0.2517\n",
      "BFGSLineSearch:   43[ 61] 13:12:54    -4222.101120        0.1606\n",
      "BFGSLineSearch:   44[ 62] 13:12:54    -4222.105224        0.1334\n",
      "BFGSLineSearch:   45[ 63] 13:12:54    -4222.106872        0.0784\n",
      "BFGSLineSearch:   46[ 64] 13:12:54    -4222.107508        0.0503\n",
      "BFGSLineSearch:   47[ 66] 13:12:54    -4222.109080        0.1092\n",
      "BFGSLineSearch:   48[ 67] 13:12:54    -4222.109798        0.0478\n",
      "BFGSLineSearch:   49[ 68] 13:12:54    -4222.110181        0.0481\n",
      "BFGSLineSearch:   50[ 69] 13:12:54    -4222.110308        0.0318\n",
      "BFGSLineSearch:   51[ 70] 13:12:54    -4222.110443        0.0235\n",
      "BFGSLineSearch:   52[ 71] 13:12:54    -4222.110526        0.0161\n",
      "BFGSLineSearch:   53[ 72] 13:12:54    -4222.110566        0.0137\n",
      "BFGSLineSearch:   54[ 73] 13:12:54    -4222.110582        0.0094\n"
     ]
    }
   ],
   "source": [
    "ethanol_ase.optimize(fmax=1e-2) # reoptimize structure\n",
    "\n",
    "ethanol_ase.init_md(\n",
    "    'simulation_300K',\n",
    "    temp_bath=300,\n",
    "    reset=True\n",
    ")\n",
    "ethanol_ase.run_md(20000)"
   ]
  },
  {
   "cell_type": "markdown",
   "metadata": {
    "pycharm": {
     "name": "#%% md\n"
    }
   },
   "source": [
    "We can now once again plot total and potential energies.\n",
    "Instead of the kinetic energy, we plot the temperature (both quantities are directly related)."
   ]
  },
  {
   "cell_type": "code",
   "execution_count": 21,
   "metadata": {
    "pycharm": {
     "name": "#%%\n"
    }
   },
   "outputs": [
    {
     "name": "stdout",
     "output_type": "stream",
     "text": [
      "Average temperature:     257.56 K\n"
     ]
    },
    {
     "data": {
      "image/png": "[encoded data removed]",
      "text/plain": [
       "<Figure size 1008x432 with 2 Axes>"
      ]
     },
     "metadata": {
      "needs_background": "light"
     },
     "output_type": "display_data"
    }
   ],
   "source": [
    "skip_initial = 5000\n",
    "\n",
    "# Load logged results\n",
    "results = np.loadtxt(os.path.join(ase_dir, 'simulation_300K.log'), skiprows=1)\n",
    "\n",
    "# Determine time axis\n",
    "time = results[skip_initial:,0]\n",
    "#0.02585\n",
    "# Load energies\n",
    "energy_tot = results[skip_initial:,1]\n",
    "energy_pot = results[skip_initial:,2]\n",
    "\n",
    "# Construct figure\n",
    "plt.figure(figsize=(14,6))\n",
    "\n",
    "# Plot energies\n",
    "plt.subplot(2,1,1)\n",
    "plt.plot(time, energy_tot, label='Total energy')\n",
    "plt.plot(time, energy_pot, label='Potential energy')\n",
    "plt.ylabel('Energies [eV]')\n",
    "plt.legend()\n",
    "\n",
    "# Plot Temperature\n",
    "temperature = results[skip_initial:,4]\n",
    "\n",
    "# Compute average temperature\n",
    "print('Average temperature: {:10.2f} K'.format(np.mean(temperature)))\n",
    "\n",
    "plt.subplot(2,1,2)\n",
    "plt.plot(time, temperature, label='Simulation')\n",
    "plt.ylabel('Temperature [K]')\n",
    "plt.xlabel('Time [ps]')\n",
    "plt.plot(time, np.ones_like(temperature)*300, label='Target')\n",
    "plt.legend()\n",
    "plt.show()"
   ]
  },
  {
   "cell_type": "markdown",
   "metadata": {
    "pycharm": {
     "name": "#%% md\n"
    }
   },
   "source": [
    "Since our molecule is now subjected to external influences via the thermostat the total energy is no longer conserved.\n",
    "However, the simulation temperature now fluctuates near to the requested 300K.\n",
    "This can also be seen by computing the temperature average over time, which is now close to the desired value in contrast to the previous simulation."
   ]
  },
  {
   "cell_type": "markdown",
   "metadata": {
    "pycharm": {
     "name": "#%% md\n"
    }
   },
   "source": [
    "## Summary\n",
    "\n",
    "In this tutorial, we have trained a SchNet model on energies and forces using the MD17 ethanol dataset as an example. \n",
    "We have then evaluated the performance of the model and performed geometry optimisation, normal mode analysis and basic molecular dynamic simulations using the SchNetPack ASE interface.\n",
    "\n",
    "While these simulations can already be useful for practical applications, SchNetPack also comes with its own molecular dynamics package.\n",
    "This package makes it possible to run efficient simulations on GPU and also offers access to advanced techniques, such as ring polymer dynamics.\n",
    "In the next tutorial, we will cover how to perform molecular dynamics simulations directly with SchNetPack."
   ]
  }
 ],
 "metadata": {
  "kernelspec": {
   "display_name": "Python 3 (ipykernel)",
   "language": "python",
   "name": "python3"
  },
  "language_info": {
   "codemirror_mode": {
    "name": "ipython",
    "version": 3
   },
   "file_extension": ".py",
   "mimetype": "text/x-python",
   "name": "python",
   "nbconvert_exporter": "python",
   "pygments_lexer": "ipython3",
   "version": "3.8.13"
  },
  "nbsphinx": {
   "execute": "never"
  }
 },
 "nbformat": 4,
 "nbformat_minor": 2
}
